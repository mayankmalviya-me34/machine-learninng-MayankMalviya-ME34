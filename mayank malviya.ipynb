{
  "nbformat": 4,
  "nbformat_minor": 0,
  "metadata": {
    "colab": {
      "name": "Untitled0.ipynb",
      "provenance": [],
      "toc_visible": true
    },
    "kernelspec": {
      "name": "python3",
      "display_name": "Python 3"
    },
    "language_info": {
      "name": "python"
    }
  },
  "cells": [
    {
      "cell_type": "code",
      "source": [
        ""
      ],
      "metadata": {
        "id": "4Fu68JCpHWON"
      },
      "execution_count": null,
      "outputs": []
    },
    {
      "cell_type": "code",
      "source": [
        "#for a given list if value is > 5 then print h1 else bye\n",
        "\n",
        "\n",
        "['h1' if (i>5) else 'bye' for i in l1]\n"
      ],
      "metadata": {
        "colab": {
          "base_uri": "https://localhost:8080/"
        },
        "id": "28Vn0ZFWFfh-",
        "outputId": "47690eab-4c72-4449-92d3-61d46e8404b9"
      },
      "execution_count": null,
      "outputs": [
        {
          "output_type": "execute_result",
          "data": {
            "text/plain": [
              "['bye', 'bye', 'bye', 'bye']"
            ]
          },
          "metadata": {},
          "execution_count": 8
        }
      ]
    },
    {
      "cell_type": "code",
      "source": [
        "#if x the power 2 is <= 10 execute 27*x for value in range 1 to 20\n",
        "\n",
        "\n",
        "[27*x for x in range(1,21) if x**2 <= 50]\n"
      ],
      "metadata": {
        "colab": {
          "base_uri": "https://localhost:8080/"
        },
        "id": "G6qEkOhzGAkm",
        "outputId": "a89a2449-6b5f-44d4-d282-d2a23ac4eb30"
      },
      "execution_count": null,
      "outputs": [
        {
          "output_type": "execute_result",
          "data": {
            "text/plain": [
              "[27, 54, 81, 108, 135, 162, 189]"
            ]
          },
          "metadata": {},
          "execution_count": 9
        }
      ]
    },
    {
      "cell_type": "code",
      "source": [
        "#print all the even number 1 to 20\n",
        "\n",
        "\n",
        "[i for i in range(1,21) if i%2 == 0]\n"
      ],
      "metadata": {
        "colab": {
          "base_uri": "https://localhost:8080/"
        },
        "id": "D8-UC8c3Hkvu",
        "outputId": "fb722062-123c-4b10-8cce-b9aca88c29e2"
      },
      "execution_count": null,
      "outputs": [
        {
          "output_type": "execute_result",
          "data": {
            "text/plain": [
              "[2, 4, 6, 8, 10, 12, 14, 16, 18, 20]"
            ]
          },
          "metadata": {},
          "execution_count": 10
        }
      ]
    },
    {
      "cell_type": "code",
      "source": [
        "#find all the number that can be divided by 2 and 5 in some range \n",
        "\n",
        "\n",
        "[ i for i in range(1,101) if (i%2==0) and (i%5==0)]"
      ],
      "metadata": {
        "colab": {
          "base_uri": "https://localhost:8080/"
        },
        "id": "02BcgCfSICLW",
        "outputId": "f07508f5-23ac-4ee2-e64d-edac7d09e3a9"
      },
      "execution_count": null,
      "outputs": [
        {
          "output_type": "execute_result",
          "data": {
            "text/plain": [
              "[10, 20, 30, 40, 50, 60, 70, 80, 90, 100]"
            ]
          },
          "metadata": {},
          "execution_count": 11
        }
      ]
    },
    {
      "cell_type": "code",
      "source": [
        "# for find all the number from 1 to 1000 that have 3 in them \n",
        "\n",
        "[i for i in range( 1,1000) if '3' in str(i)]"
      ],
      "metadata": {
        "colab": {
          "base_uri": "https://localhost:8080/"
        },
        "id": "vCtT28ESI2fe",
        "outputId": "4e13d7e4-1aee-4a49-c6b1-2325032413a6"
      },
      "execution_count": null,
      "outputs": [
        {
          "output_type": "execute_result",
          "data": {
            "text/plain": [
              "[3,\n",
              " 13,\n",
              " 23,\n",
              " 30,\n",
              " 31,\n",
              " 32,\n",
              " 33,\n",
              " 34,\n",
              " 35,\n",
              " 36,\n",
              " 37,\n",
              " 38,\n",
              " 39,\n",
              " 43,\n",
              " 53,\n",
              " 63,\n",
              " 73,\n",
              " 83,\n",
              " 93,\n",
              " 103,\n",
              " 113,\n",
              " 123,\n",
              " 130,\n",
              " 131,\n",
              " 132,\n",
              " 133,\n",
              " 134,\n",
              " 135,\n",
              " 136,\n",
              " 137,\n",
              " 138,\n",
              " 139,\n",
              " 143,\n",
              " 153,\n",
              " 163,\n",
              " 173,\n",
              " 183,\n",
              " 193,\n",
              " 203,\n",
              " 213,\n",
              " 223,\n",
              " 230,\n",
              " 231,\n",
              " 232,\n",
              " 233,\n",
              " 234,\n",
              " 235,\n",
              " 236,\n",
              " 237,\n",
              " 238,\n",
              " 239,\n",
              " 243,\n",
              " 253,\n",
              " 263,\n",
              " 273,\n",
              " 283,\n",
              " 293,\n",
              " 300,\n",
              " 301,\n",
              " 302,\n",
              " 303,\n",
              " 304,\n",
              " 305,\n",
              " 306,\n",
              " 307,\n",
              " 308,\n",
              " 309,\n",
              " 310,\n",
              " 311,\n",
              " 312,\n",
              " 313,\n",
              " 314,\n",
              " 315,\n",
              " 316,\n",
              " 317,\n",
              " 318,\n",
              " 319,\n",
              " 320,\n",
              " 321,\n",
              " 322,\n",
              " 323,\n",
              " 324,\n",
              " 325,\n",
              " 326,\n",
              " 327,\n",
              " 328,\n",
              " 329,\n",
              " 330,\n",
              " 331,\n",
              " 332,\n",
              " 333,\n",
              " 334,\n",
              " 335,\n",
              " 336,\n",
              " 337,\n",
              " 338,\n",
              " 339,\n",
              " 340,\n",
              " 341,\n",
              " 342,\n",
              " 343,\n",
              " 344,\n",
              " 345,\n",
              " 346,\n",
              " 347,\n",
              " 348,\n",
              " 349,\n",
              " 350,\n",
              " 351,\n",
              " 352,\n",
              " 353,\n",
              " 354,\n",
              " 355,\n",
              " 356,\n",
              " 357,\n",
              " 358,\n",
              " 359,\n",
              " 360,\n",
              " 361,\n",
              " 362,\n",
              " 363,\n",
              " 364,\n",
              " 365,\n",
              " 366,\n",
              " 367,\n",
              " 368,\n",
              " 369,\n",
              " 370,\n",
              " 371,\n",
              " 372,\n",
              " 373,\n",
              " 374,\n",
              " 375,\n",
              " 376,\n",
              " 377,\n",
              " 378,\n",
              " 379,\n",
              " 380,\n",
              " 381,\n",
              " 382,\n",
              " 383,\n",
              " 384,\n",
              " 385,\n",
              " 386,\n",
              " 387,\n",
              " 388,\n",
              " 389,\n",
              " 390,\n",
              " 391,\n",
              " 392,\n",
              " 393,\n",
              " 394,\n",
              " 395,\n",
              " 396,\n",
              " 397,\n",
              " 398,\n",
              " 399,\n",
              " 403,\n",
              " 413,\n",
              " 423,\n",
              " 430,\n",
              " 431,\n",
              " 432,\n",
              " 433,\n",
              " 434,\n",
              " 435,\n",
              " 436,\n",
              " 437,\n",
              " 438,\n",
              " 439,\n",
              " 443,\n",
              " 453,\n",
              " 463,\n",
              " 473,\n",
              " 483,\n",
              " 493,\n",
              " 503,\n",
              " 513,\n",
              " 523,\n",
              " 530,\n",
              " 531,\n",
              " 532,\n",
              " 533,\n",
              " 534,\n",
              " 535,\n",
              " 536,\n",
              " 537,\n",
              " 538,\n",
              " 539,\n",
              " 543,\n",
              " 553,\n",
              " 563,\n",
              " 573,\n",
              " 583,\n",
              " 593,\n",
              " 603,\n",
              " 613,\n",
              " 623,\n",
              " 630,\n",
              " 631,\n",
              " 632,\n",
              " 633,\n",
              " 634,\n",
              " 635,\n",
              " 636,\n",
              " 637,\n",
              " 638,\n",
              " 639,\n",
              " 643,\n",
              " 653,\n",
              " 663,\n",
              " 673,\n",
              " 683,\n",
              " 693,\n",
              " 703,\n",
              " 713,\n",
              " 723,\n",
              " 730,\n",
              " 731,\n",
              " 732,\n",
              " 733,\n",
              " 734,\n",
              " 735,\n",
              " 736,\n",
              " 737,\n",
              " 738,\n",
              " 739,\n",
              " 743,\n",
              " 753,\n",
              " 763,\n",
              " 773,\n",
              " 783,\n",
              " 793,\n",
              " 803,\n",
              " 813,\n",
              " 823,\n",
              " 830,\n",
              " 831,\n",
              " 832,\n",
              " 833,\n",
              " 834,\n",
              " 835,\n",
              " 836,\n",
              " 837,\n",
              " 838,\n",
              " 839,\n",
              " 843,\n",
              " 853,\n",
              " 863,\n",
              " 873,\n",
              " 883,\n",
              " 893,\n",
              " 903,\n",
              " 913,\n",
              " 923,\n",
              " 930,\n",
              " 931,\n",
              " 932,\n",
              " 933,\n",
              " 934,\n",
              " 935,\n",
              " 936,\n",
              " 937,\n",
              " 938,\n",
              " 939,\n",
              " 943,\n",
              " 953,\n",
              " 963,\n",
              " 973,\n",
              " 983,\n",
              " 993]"
            ]
          },
          "metadata": {},
          "execution_count": 13
        }
      ]
    },
    {
      "cell_type": "code",
      "source": [
        "# s= i love aitr, count the number of spaces in string\n",
        "s = \"i love aitr\"\n",
        "l1 = [i for i in s if i==\" \"]\n",
        "print(len(l1))"
      ],
      "metadata": {
        "colab": {
          "base_uri": "https://localhost:8080/"
        },
        "id": "H9TZ2VVhJ5ye",
        "outputId": "14e4d94e-7995-4694-a40a-90626deb4585"
      },
      "execution_count": null,
      "outputs": [
        {
          "output_type": "stream",
          "name": "stdout",
          "text": [
            "2\n"
          ]
        }
      ]
    },
    {
      "cell_type": "code",
      "execution_count": null,
      "metadata": {
        "colab": {
          "base_uri": "https://localhost:8080/"
        },
        "id": "3AFPR-yDC_8B",
        "outputId": "028ecfaa-e91f-4687-935d-4d2319fc46d6"
      },
      "outputs": [
        {
          "output_type": "execute_result",
          "data": {
            "text/plain": [
              "[]"
            ]
          },
          "metadata": {},
          "execution_count": 7
        }
      ],
      "source": [
        "#to print the squire of a number in the list given if is > 50\n",
        "\n",
        "\n",
        "l1 = [1,2,3,4]\n",
        "[ i**2 for i  in l1 if i**2>50]\n"
      ]
    },
    {
      "cell_type": "code",
      "source": [
        "#count the consonents.\n",
        "\n",
        "s = \"a,b,c,d,e,f,g,h,i,j,k,,l,m,n,o,p,q,r,s,t,u,v,w,x,y,z\"\n",
        "l1=[ i for i in s if i not in \"a,e,i,o,u\"]\n",
        "print(len(l1))"
      ],
      "metadata": {
        "colab": {
          "base_uri": "https://localhost:8080/"
        },
        "id": "FW43-bh4LN4O",
        "outputId": "6ae04384-e6bd-4d76-df4b-143c4a0a309c"
      },
      "execution_count": null,
      "outputs": [
        {
          "output_type": "stream",
          "name": "stdout",
          "text": [
            "21\n"
          ]
        }
      ]
    },
    {
      "cell_type": "code",
      "source": [
        "#"
      ],
      "metadata": {
        "id": "gQwdb0x8MREu"
      },
      "execution_count": null,
      "outputs": []
    }
  ]
}